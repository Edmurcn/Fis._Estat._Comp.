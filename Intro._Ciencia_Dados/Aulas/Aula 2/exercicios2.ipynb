{
 "cells": [
  {
   "cell_type": "markdown",
   "metadata": {},
   "source": [
    "# Exercícios da Aula 1 - Edmur C. Neto - 12558492"
   ]
  },
  {
   "cell_type": "markdown",
   "metadata": {},
   "source": [
    "1 - Gere dados a partir de uma distribuição de Poisson. Varie a taxas $\\lambda$ no intervalo [1,10] e mostre o gráfico da média em função da variância."
   ]
  },
  {
   "cell_type": "code",
   "execution_count": 56,
   "metadata": {},
   "outputs": [],
   "source": [
    "import pandas as pd\n",
    "import numpy as np\n",
    "import seaborn as sns\n",
    "import matplotlib.pyplot as plt\n",
    "from scipy.optimize import curve_fit\n",
    "from scipy.stats import iqr\n"
   ]
  },
  {
   "cell_type": "code",
   "execution_count": 50,
   "metadata": {},
   "outputs": [
    {
     "data": {
      "image/png": "[encoded data removed]",
      "text/plain": [
       "<Figure size 640x480 with 1 Axes>"
      ]
     },
     "metadata": {},
     "output_type": "display_data"
    }
   ],
   "source": [
    "i = 1\n",
    "media = []\n",
    "var = []\n",
    "\n",
    "while i < 10:\n",
    "\n",
    "    lamb = i\n",
    "    beta = 1.0/lamb\n",
    "    X = np.random.exponential(beta, 500)\n",
    "    media.append(np.mean(X))\n",
    "    var.append(np.var(X))\n",
    "    \n",
    "    i = i + 0.1\n",
    "\n",
    "#Função para plotar o fitting da relação\n",
    "# def funtion_fitting(x, a, b, c):\n",
    "#     f = a *x ** 2.0 + b * x + c\n",
    "#     return f\n",
    "\n",
    "# #Curva do fitting\n",
    "# parametros_inicias = [1,0,0]\n",
    "# parametros_otimizados, covariância = curve_fit(funtion_fitting, var, media, p0=parametros_inicias)\n",
    "#  plt.plot(var, funtion_fitting(np.array(range(len(var))), *parametros_otimizados), color=\"red\", \n",
    "#        label=f\"Função {parametros_otimizados[0]} x² + {parametros_otimizados[1]} x + {parametros_otimizados[2]}\")\n",
    "\n",
    "plt.scatter(media, var, color=\"gray\")\n",
    "plt.xlabel(\"Variância\", fontsize=15)\n",
    "plt.ylabel(\"Média\", fontsize=15)\n",
    "plt.title(\"Média em função da variância\", fontsize=20)\n",
    "\n",
    "plt.show()\n"
   ]
  },
  {
   "cell_type": "markdown",
   "metadata": {},
   "source": [
    "2 - Considere os dados da Iris. Calcule a média, variância e IQR para cada atributo."
   ]
  },
  {
   "cell_type": "code",
   "execution_count": 54,
   "metadata": {},
   "outputs": [
    {
     "data": {
      "text/html": [
       "<div>\n",
       "<style scoped>\n",
       "    .dataframe tbody tr th:only-of-type {\n",
       "        vertical-align: middle;\n",
       "    }\n",
       "\n",
       "    .dataframe tbody tr th {\n",
       "        vertical-align: top;\n",
       "    }\n",
       "\n",
       "    .dataframe thead th {\n",
       "        text-align: right;\n",
       "    }\n",
       "</style>\n",
       "<table border=\"1\" class=\"dataframe\">\n",
       "  <thead>\n",
       "    <tr style=\"text-align: right;\">\n",
       "      <th></th>\n",
       "      <th>Colunas</th>\n",
       "      <th>Médias</th>\n",
       "      <th>Variâncias</th>\n",
       "      <th>IQR's</th>\n",
       "    </tr>\n",
       "  </thead>\n",
       "  <tbody>\n",
       "    <tr>\n",
       "      <th>0</th>\n",
       "      <td>sepal_length</td>\n",
       "      <td>5.843333</td>\n",
       "      <td>0.681122</td>\n",
       "      <td>1.3</td>\n",
       "    </tr>\n",
       "    <tr>\n",
       "      <th>1</th>\n",
       "      <td>sepal_width</td>\n",
       "      <td>3.054000</td>\n",
       "      <td>0.186751</td>\n",
       "      <td>0.5</td>\n",
       "    </tr>\n",
       "    <tr>\n",
       "      <th>2</th>\n",
       "      <td>petal_length</td>\n",
       "      <td>3.758667</td>\n",
       "      <td>3.092425</td>\n",
       "      <td>3.5</td>\n",
       "    </tr>\n",
       "    <tr>\n",
       "      <th>3</th>\n",
       "      <td>petal_width</td>\n",
       "      <td>1.198667</td>\n",
       "      <td>0.578532</td>\n",
       "      <td>1.5</td>\n",
       "    </tr>\n",
       "  </tbody>\n",
       "</table>\n",
       "</div>"
      ],
      "text/plain": [
       "        Colunas    Médias  Variâncias  IQR's\n",
       "0  sepal_length  5.843333    0.681122    1.3\n",
       "1   sepal_width  3.054000    0.186751    0.5\n",
       "2  petal_length  3.758667    3.092425    3.5\n",
       "3   petal_width  1.198667    0.578532    1.5"
      ]
     },
     "execution_count": 54,
     "metadata": {},
     "output_type": "execute_result"
    }
   ],
   "source": [
    "df_iris = pd.read_csv(\"/home/edmurcn/Documentos/MeusProjetos/Fis._Estat._Comp./Intro._Ciencia_Dados/data/iris.csv\")\n",
    "\n",
    "media = []\n",
    "variancia = []\n",
    "IQR = []\n",
    "nome = []\n",
    "\n",
    "for i in df_iris.columns[0:df_iris.shape[1]-1]:\n",
    "    nome.append(i)\n",
    "    media.append(np.mean(df_iris[i]))\n",
    "    variancia.append(np.var(df_iris[i]))\n",
    "    IQR.append(iqr(df_iris[i]))\n",
    "    \n",
    "dados = {\n",
    "    \"Colunas\": nome,\n",
    "    \"Médias\": media,\n",
    "    \"Variâncias\": variancia,\n",
    "    \"IQR's\": IQR\n",
    "}\n",
    "\n",
    "parametros = pd.DataFrame(dados)\n",
    "\n",
    "parametros.head()\n",
    "    \n",
    "        "
   ]
  },
  {
   "cell_type": "markdown",
   "metadata": {},
   "source": [
    "3 - Obtenha o boxplot de todas as variáveis da flor Iris, para cada espécie."
   ]
  },
  {
   "cell_type": "code",
   "execution_count": null,
   "metadata": {},
   "outputs": [],
   "source": []
  }
 ],
 "metadata": {
  "kernelspec": {
   "display_name": "base",
   "language": "python",
   "name": "python3"
  },
  "language_info": {
   "codemirror_mode": {
    "name": "ipython",
    "version": 3
   },
   "file_extension": ".py",
   "mimetype": "text/x-python",
   "name": "python",
   "nbconvert_exporter": "python",
   "pygments_lexer": "ipython3",
   "version": "3.11.3"
  },
  "orig_nbformat": 4
 },
 "nbformat": 4,
 "nbformat_minor": 2
}
