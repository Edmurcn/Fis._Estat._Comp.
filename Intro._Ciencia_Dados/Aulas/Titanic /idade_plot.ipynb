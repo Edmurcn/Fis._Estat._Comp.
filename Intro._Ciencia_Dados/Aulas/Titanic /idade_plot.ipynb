{
 "cells": [
  {
   "cell_type": "code",
   "execution_count": null,
   "metadata": {},
   "outputs": [],
   "source": [
    "df_train_snan = df_train.dropna()\n",
    "df_test_snan = df_test.dropna()\n",
    "\n",
    "df_idades = []\n",
    "\n",
    "\n",
    "mean_train = np.mean(df_train_snan[\"Age\"])\n",
    "median_train = np.median(df_train_snan[\"Age\"])\n",
    "\n",
    "mean_test = np.mean(df_test_snan[\"Age\"])\n",
    "median_test = np.median(df_test_snan[\"Age\"])\n",
    "\n",
    "\n",
    "plt.figure(figsize=(12,8))\n",
    "\n",
    "plt.subplot(1,2,1)\n",
    "plt.style.use(\"classic\")\n",
    "sns.boxplot(data=df_train_snan, y=\"Age\", linewidth=2, color=\"green\")\n",
    "plt.text(-0.45,75,s=f\"Média = {mean_train:.2f}\", fontsize = 12)\n",
    "plt.text(-0.45,70,s=f\"Mediana = {median_train:.2f}\", fontsize = 12)\n",
    "plt.title(\"BoxPlot Idades\")\n",
    "plt.xlabel(\"Conjunto de Treino\", fontsize=15)\n",
    "plt.ylabel(\"Idades\", fontsize=15)\n",
    "\n",
    "plt.subplot(1,2,2)\n",
    "plt.style.use(\"classic\")\n",
    "sns.boxplot(data=df_test_snan, y = \"Age\", color=\"orange\", linewidth=2)\n",
    "plt.text(-0.45,75,s=f\"Média = {mean_test:.2f}\", fontsize = 12)\n",
    "plt.text(-0.45,70,s=f\"Mediana = {median_test:.2f}\", fontsize = 12)\n",
    "plt.title(\"BoxPlot Idades\")\n",
    "plt.xlabel(\"Conjunto de Teste\", fontsize=15)\n",
    "plt.ylabel(\"\")\n",
    "\n",
    "plt.tight_layout()\n",
    "\n",
    "plt.show()"
   ]
  }
 ],
 "metadata": {
  "language_info": {
   "name": "python"
  },
  "orig_nbformat": 4
 },
 "nbformat": 4,
 "nbformat_minor": 2
}
